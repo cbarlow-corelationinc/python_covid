{
 "cells": [
  {
   "cell_type": "markdown",
   "metadata": {
    "id": "1ScKqSz3Kv6u"
   },
   "source": [
    "# Analyzing COVID-19 Data\n",
    "\n",
    "-----"
   ]
  },
  {
   "cell_type": "markdown",
   "metadata": {
    "id": "4KbA1b0CKv6x"
   },
   "source": [
    "A time series data is a series of data points indexed in time order, often with equal intervals between indexes. In this notebook, we use data related to the case count of COVID-19 in the U.S. to show how to work efficiently with time series data in Python, by using the Pandas library.\n",
    "\n",
    "-----"
   ]
  },
  {
   "cell_type": "markdown",
   "metadata": {
    "id": "XyOYghmTKv6z"
   },
   "source": [
    "## Table of Contents\n",
    "\n",
    "\n",
    "[Data](#Data)\n",
    "\n",
    "[Plot Time Series](#Plot-Time-Series)\n",
    "\n",
    "-----\n",
    "\n",
    "Before proceeding with the rest of this notebook, we first include the notebook setup code.\n",
    "\n",
    "-----"
   ]
  },
  {
   "cell_type": "code",
   "execution_count": null,
   "metadata": {
    "id": "pLAh05YYKv6z"
   },
   "outputs": [],
   "source": [
    "# Set up Notebook\n",
    "\n",
    "%matplotlib inline\n",
    "\n",
    "# Standard imports\n",
    "import numpy as np\n",
    "import pandas as pd\n",
    "import matplotlib.pyplot as plt\n",
    "import seaborn as sns\n",
    "\n",
    "# These two lines suppress warnings that sometimes\n",
    "# occur when making visualizations\n",
    "import warnings\n",
    "warnings.filterwarnings('ignore')\n",
    "\n",
    "# Set global figure properties\n",
    "import matplotlib as mpl\n",
    "mpl.rcParams.update({'axes.titlesize' : 20,\n",
    "                     'axes.labelsize' : 18,\n",
    "                     'legend.fontsize': 16})\n",
    "\n",
    "# Set default Seaborn plotting style\n",
    "sns.set_style('white')\n",
    "\n",
    "# Extra imports for pulling zip file from Carl GitHub repository.\n",
    "from datetime import datetime\n",
    "import requests, zipfile, io"
   ]
  },
  {
   "cell_type": "markdown",
   "metadata": {
    "id": "NFMFswPZKv60"
   },
   "source": [
    "-----\n",
    "\n",
    "[[Back to TOC]](#Table-of-Contents)\n",
    "\n",
    "## Data\n",
    "\n",
    "We will load a new data set into our notebook. This data contains fips*, total number of diagnosed cases of COVID-19, and total number of deaths attributed to COVID-19, broken out by date and state. The dataset comes from  [New York Times COVID-19 Data](https://github.com/nytimes/covid-19-data).\n",
    "\n",
    "\n",
    "First run the following cell if you are running on Google Colab and need to pull the latest data from the New York Times GitHub repository: *Note that the following cell uses Linux bash shell commands, so skip this cell if you are running the notebook in a Jupyter server that is actually installed on a Windows operating system! In that environment, you should already have a data directory with the three csv files in it.*"
   ]
  },
  {
   "cell_type": "code",
   "execution_count": null,
   "metadata": {
    "id": "pmfIHCPwoW4B"
   },
   "outputs": [],
   "source": [
    "!rm -f data/us*\n",
    "!wget -q -P data https://github.com/nytimes/covid-19-data/raw/master/us.csv\n",
    "!wget -q -P data https://github.com/nytimes/covid-19-data/raw/master/us-states.csv\n",
    "!wget -q -P data https://raw.github.com/nytimes/covid-19-data/master/us-counties.csv\n",
    "!ls -Abl data/us*"
   ]
  },
  {
   "cell_type": "code",
   "execution_count": 32,
   "metadata": {
    "id": "nIn5xoftT1Ez"
   },
   "outputs": [],
   "source": [
    "# This code is to pull a single data.zip file off of Carl GitHub and unzip it instead of pulling directly from NY Times.\n",
    "#!wget -q https://github.com/cbarlow-corelationinc/python_covid/blob/main/data.zip?raw=true\n",
    "#r = requests.get( 'https://github.com/cbarlow-corelationinc/python_covid/blob/main/data.zip?raw=true') \n",
    "#z = zipfile.ZipFile(io.BytesIO(r.content))\n",
    "#z.extractall()"
   ]
  },
  {
   "cell_type": "markdown",
   "metadata": {
    "id": "14LE9x-vTaMt"
   },
   "source": [
    "In the next Code cell, we first load the datasets and display five sample rows in the us-states dataset.\n",
    "\n",
    "*The 'fips' column includes the ANSI Federal Information Processing Standards (FIPS) Code for a geographic entity like a state or county. This standard geographic identifier makes it easier for an analyst to combine this data with other data sets like a map file or population data."
   ]
  },
  {
   "cell_type": "code",
   "execution_count": null,
   "metadata": {
    "id": "vEYTC7pxKv61",
    "scrolled": true
   },
   "outputs": [],
   "source": [
    "# Load local data file\n",
    "df_us = pd.read_csv('data/us.csv')\n",
    "df_states = pd.read_csv('data/us-states.csv')\n",
    "df_counties = pd.read_csv('data/us-counties.csv')\n",
    "df_states.sample(5)"
   ]
  },
  {
   "cell_type": "markdown",
   "metadata": {
    "id": "QLbs7kThKv63"
   },
   "source": [
    "-----\n",
    "\n",
    "To work with time data by using Pandas, it is more efficient to have a time stamp index. We create this new index in the next few Code cells. \n",
    "\n",
    "First, we generate a new time stamp feature, called `TS`, that converts the `date` features of each row into a datetime object.  \n",
    "\n",
    "Next, to analyze time series data, we need a datetime index. In this dataset, we use the new `TS` feature to create  the datetime index. We call Pandas `DatetimeIndex` function to create a datetime index from `TS`, then set it as the DataFrame's index.\n",
    "\n",
    "Then, we display several observations at random, indicating the extra columns. \n",
    "\n",
    "Next, we drop these extra columns, creating a compact DataFrame with the datetime index and features of interest, `state`, `fips`, `cases`, and `deaths`.\n",
    "\n",
    "Finally, we display the basic information of the states dataset. The dataset has total 3919 observations as of May 12, 2020. There are no missing values in any of the feature columns, so we will not need to take measures such as dropping rows with null values or filling them in with mean values or interpolated values, etc. \n",
    "\n",
    "-----"
   ]
  },
  {
   "cell_type": "code",
   "execution_count": null,
   "metadata": {
    "id": "zp234h5YKv63"
   },
   "outputs": [],
   "source": [
    "# Build Timestamp Feature\n",
    "df_us['TS'] = pd.to_datetime(df_us.date)\n",
    "df_states['TS'] = pd.to_datetime(df_states.date)\n",
    "df_counties['TS'] = pd.to_datetime(df_counties.date)\n",
    "df_states.tail()"
   ]
  },
  {
   "cell_type": "code",
   "execution_count": null,
   "metadata": {
    "id": "-a1yxZrIKv64"
   },
   "outputs": [],
   "source": [
    "# Convert TS to DataFrame Index\n",
    "df_us.index = pd.DatetimeIndex(df_us.TS)\n",
    "df_states.index = pd.DatetimeIndex(df_states.TS)\n",
    "df_counties.index = pd.DatetimeIndex(df_counties.TS)\n",
    "# Index works, but extra columns\n",
    "df_states.sample(5)"
   ]
  },
  {
   "cell_type": "code",
   "execution_count": null,
   "metadata": {
    "id": "wQrZktrYKv64",
    "scrolled": true
   },
   "outputs": [],
   "source": [
    "# Remove extra columns\n",
    "df_us.drop(['date', 'TS'], axis=1, inplace=True)\n",
    "df_states.drop(['date', 'TS'], axis=1, inplace=True)\n",
    "df_counties.drop(['date', 'TS'], axis=1, inplace=True)\n",
    "# We now have a compact DataFrame\n",
    "df_states.sample(5)"
   ]
  },
  {
   "cell_type": "code",
   "execution_count": null,
   "metadata": {
    "id": "7Ml95pgyKv65"
   },
   "outputs": [],
   "source": [
    "df_states.info()"
   ]
  },
  {
   "cell_type": "markdown",
   "metadata": {
    "id": "N7RopPfaKv67"
   },
   "source": [
    "Now let's make a new Pandas dataframe df_nc from the states dataset that only includes data where the state column is 'North Carolina' and let's create a dataframe df_meck from the counties dataset that only includes data where the state column is 'North Carolina' and the county column is 'Mecklenburg'. While we're at it, let's create two new columns `new_cases` and `new_deaths` in the dataframes df_us, df_nc, and df_meck that list the _changes_ in cases and deaths from the previous day. We can use the diff() function for a Series or DataFrame to calculate these daily differences."
   ]
  },
  {
   "cell_type": "code",
   "execution_count": null,
   "metadata": {
    "id": "4xnaeuXYKv67"
   },
   "outputs": [],
   "source": [
    "# Make new columns for new cases and new deaths\n",
    "df_us = pd.concat([df_us, df_us['cases'].diff().rename('new_cases')], axis=1)\n",
    "df_us = pd.concat([df_us, df_us['deaths'].diff().rename('new_deaths')], axis=1)\n",
    "\n",
    "# Make dataframe for North Carolina \n",
    "df_nc = df_states[df_states.state=='North Carolina']\n",
    "df_nc = pd.concat([df_nc, df_nc['cases'].diff().rename('new_cases')], axis=1)\n",
    "df_nc = pd.concat([df_nc, df_nc['deaths'].diff().rename('new_deaths')], axis=1)\n",
    "df_nc.tail()\n",
    "\n",
    "# Make dataframe for Mecklenburg County, NC \n",
    "df_meck = df_counties[(df_counties.state=='North Carolina') & (df_counties.county=='Mecklenburg')]\n",
    "df_meck = pd.concat([df_meck, df_meck['cases'].diff().rename('new_cases')], axis=1)\n",
    "df_meck = pd.concat([df_meck, df_meck['deaths'].diff().rename('new_deaths')], axis=1)\n",
    "#df_meck.tail()"
   ]
  },
  {
   "cell_type": "markdown",
   "metadata": {
    "id": "EuvsCUhKKv67"
   },
   "source": [
    "-----\n",
    "\n",
    "[[Back to TOC]](#Table-of-Contents)\n",
    "\n",
    "## Plot Time Series\n",
    "\n",
    "Pandas provides considerable functionality to work with time series data. The following Code cell demonstrates how easy it can be to plot time series data by using Pandas. We directly call `plot` function from `cases` column for the U.S. dataset. The function will automatically use the datetime index as x axis. It's smart enough to only use month as x tick value. \n",
    "\n",
    "In the `plot` function, we can optionally pass two arguments, `lw` which defines the line width of the plot, and `alpha`, which defines the transparency of the plotting line. \n",
    "\n",
    "In subsequent Code cells, we also plot new cases in the U.S., along with a rolling 14-day average, and total and new cases in North Carolina and in Mecklenburg County.\n",
    "\n",
    "-----"
   ]
  },
  {
   "cell_type": "code",
   "execution_count": null,
   "metadata": {
    "id": "6tJaCbPCKv67"
   },
   "outputs": [],
   "source": [
    "# Plot total cases for Country\n",
    "fig, ax = plt.subplots(figsize=(12, 6))\n",
    "df_us.cases.plot()\n",
    "\n",
    "ax.set(title='Total Cases in United States',\n",
    "      xlabel='Date', ylabel = 'Total Cases')\n",
    "\n",
    "sns.despine(offset=5, trim=True)"
   ]
  },
  {
   "cell_type": "code",
   "execution_count": null,
   "metadata": {
    "id": "WuCkQUP4Kv68"
   },
   "outputs": [],
   "source": [
    "roll7_df = df_us['new_cases'].rolling(7)\n",
    "fig, ax = plt.subplots(figsize=(12, 6))\n",
    "df_us.new_cases.plot(label='Data')\n",
    "roll7_df.mean().plot(label='7 day moving average')\n",
    "\n",
    "ax.set(title='New Cases Daily USA',\n",
    "      xlabel='Date', ylabel = 'New Cases')\n",
    "\n",
    "sns.despine(offset=5, trim=True)"
   ]
  },
  {
   "cell_type": "code",
   "execution_count": null,
   "metadata": {
    "id": "tBOLwqVjKv68"
   },
   "outputs": [],
   "source": [
    "# Plot total cases for North Carolina \n",
    "fig, ax = plt.subplots(figsize=(12, 6))\n",
    "#df_nc.cases.plot(lw=0.1, alpha=0.5)\n",
    "df_nc.cases.plot()\n",
    "\n",
    "ax.set(title='Total Cases in NC',\n",
    "      xlabel='Date', ylabel = 'Total Cases')\n",
    "\n",
    "sns.despine(offset=5, trim=True)"
   ]
  },
  {
   "cell_type": "code",
   "execution_count": null,
   "metadata": {
    "id": "PR4VZSGNKv69",
    "scrolled": false
   },
   "outputs": [],
   "source": [
    "roll7_df = df_nc['new_cases'].rolling(7)\n",
    "fig, ax = plt.subplots(figsize=(12, 6))\n",
    "df_nc.new_cases.plot(label='Data')\n",
    "roll7_df.mean().plot(label='7 day moving average')\n",
    "\n",
    "ax.set(title='New Cases Daily NC',\n",
    "      xlabel='Date', ylabel = 'New Cases')\n",
    "\n",
    "sns.despine(offset=5, trim=True)"
   ]
  },
  {
   "cell_type": "code",
   "execution_count": null,
   "metadata": {
    "id": "FPNq_QeeKv69",
    "scrolled": true
   },
   "outputs": [],
   "source": [
    "df_nc.tail(20)"
   ]
  },
  {
   "cell_type": "code",
   "execution_count": null,
   "metadata": {
    "id": "FicXkY8gKv6-"
   },
   "outputs": [],
   "source": [
    "# Plot total cases for Mecklenburg County \n",
    "fig, ax = plt.subplots(figsize=(12, 6))\n",
    "df_meck.cases.plot()\n",
    "\n",
    "ax.set(title='Total Cases in Mecklenburg County',\n",
    "      xlabel='Date', ylabel = 'Total Cases')\n",
    "\n",
    "sns.despine(offset=5, trim=True)"
   ]
  },
  {
   "cell_type": "code",
   "execution_count": null,
   "metadata": {
    "id": "ywXsgD2iKv6-"
   },
   "outputs": [],
   "source": [
    "roll7_df = df_meck['new_cases'].rolling(7)\n",
    "fig, ax = plt.subplots(figsize=(12, 6))\n",
    "df_meck.new_cases.plot(label='Data')\n",
    "roll7_df.mean().plot(label='7 day moving average')\n",
    "\n",
    "ax.set(title='New Cases Daily Mecklenburg County',\n",
    "      xlabel='Date', ylabel = 'New Cases')\n",
    "\n",
    "sns.despine(offset=5, trim=True)"
   ]
  },
  {
   "cell_type": "markdown",
   "metadata": {
    "id": "-StPwo0JKv6-"
   },
   "source": [
    "We can also analyze the deaths over time in Mecklenburg County. First we can just see the raw data for the last ten days. Then we plot the total deaths over time. Finally, we list all rows in the Mecklenburg data set that have a new_deaths value greater than 0. This shows the data for every date in which there was at least one death in the county."
   ]
  },
  {
   "cell_type": "code",
   "execution_count": null,
   "metadata": {
    "id": "XWtp6EtlKv6-"
   },
   "outputs": [],
   "source": [
    "df_meck.tail(10)"
   ]
  },
  {
   "cell_type": "code",
   "execution_count": null,
   "metadata": {
    "id": "gNvhvU1_Kv7A"
   },
   "outputs": [],
   "source": [
    "# Plot total deaths for Mecklenburg County \n",
    "fig, ax = plt.subplots(figsize=(12, 6))\n",
    "df_meck.deaths.plot()\n",
    "\n",
    "ax.set(title='Total Deaths in Mecklenburg County',\n",
    "      xlabel='Date', ylabel = 'Total Deaths')\n",
    "\n",
    "sns.despine(offset=5, trim=True)"
   ]
  },
  {
   "cell_type": "code",
   "execution_count": null,
   "metadata": {
    "id": "_zgfmdDnKv7A"
   },
   "outputs": [],
   "source": [
    "df_meck[df_meck.new_deaths>0]"
   ]
  },
  {
   "cell_type": "markdown",
   "metadata": {
    "id": "jpUFpW8KKv7A"
   },
   "source": [
    "The following is a test of the [Plotly Python Graphing Library](https://plotly.com/python/)--an alternative to matplotlib and seaborn (note how the line graph supports rollover tooltips)."
   ]
  },
  {
   "cell_type": "code",
   "execution_count": null,
   "metadata": {
    "id": "nYh5iOxaKv7A",
    "scrolled": false
   },
   "outputs": [],
   "source": [
    "# Using graph_objects\n",
    "import plotly.graph_objects as go\n",
    "\n",
    "# plotly seems to have trouble using the actul TS timestamp index as the x. Could have used\n",
    "# the original date column we deleted several steps ago.fig = go.Figure()\n",
    "fig = go.Figure()\n",
    "fig.add_trace(go.Scatter(x=df_meck.index.to_pydatetime(), y=df_meck['new_cases'],\n",
    "                    mode='lines',\n",
    "                    name='new cases'))\n",
    "fig.add_trace(go.Scatter(x=df_meck.index.to_pydatetime(), y=df_meck['new_cases'].rolling(7).mean(),\n",
    "                    mode='lines',\n",
    "                    name='rolling 7 day mean'))\n",
    "fig.show()"
   ]
  },
  {
   "cell_type": "markdown",
   "metadata": {
    "id": "MIJRpGRFKv7D"
   },
   "source": [
    "## Ancillary Information\n",
    "\n",
    "The following links are to additional documentation that you might find helpful in learning this material. Reading these web-accessible documents is completely optional.\n",
    "\n",
    "1. Introduction to [working with time series data][pat] by using Pandas\n",
    "2. Worked example of using [Pandas for time series analysis][pate]\n",
    "2. Analyzing stock data with [Pandas][nbta]\n",
    "3. [Financial analysis][fapt] by using Pandas\n",
    "3. [Financial analysis with Google trends][fapt2] by using Pandas\n",
    "4. [Time series plots][tspp] by using Python\n",
    "5. Somewhat dated discussion of using Pandas for [time series analysis][pbts]\n",
    "5. [Using Pandas for time series analysis][pt]\n",
    "\n",
    "-----\n",
    "\n",
    "[pat]: http://www.vincentgregoire.com/introduction-to-pandas/\n",
    "\n",
    "[pate]: http://www.vincentgregoire.com/crsp-example-dividends/\n",
    "\n",
    "[nbta]: http://nbviewer.jupyter.org/github/jdwittenauer/ipython-notebooks/blob/master/notebooks/misc/TimeSeriesStockAnalysis.ipynb\n",
    "\n",
    "[fapt]: https://github.com/twiecki/financial-analysis-python-tutorial/blob/master/1.%20Pandas%20Basics.ipynb\n",
    "\n",
    "[fapt2]: https://github.com/twiecki/financial-analysis-python-tutorial/blob/master/2.%20Pandas%20replication%20of%20Google%20Trends%20paper.ipynb\n",
    "\n",
    "[tspp]: http://www.blackarbs.com/blog/advanced-time-series-plots-in-python/1/6/2017\n",
    "\n",
    "[pbts]: http://earthpy.org/pandas-basics.html\n",
    "\n",
    "[pt]: http://www.marcelscharth.com/python/time.html\n",
    "\n",
    "[tspr]: http://connor-johnson.com/2014/11/23/time-series-forecasting-in-python-and-r/\n",
    "\n",
    "[tsd]: https://www.bundesbank.de/Navigation/EN/Statistics/Time_series_databases/Real_Time_Data/realtime_list_node.html?listId=rt_s311_m.de.n.i.io1.acm03.c.i\n",
    "[tsf]:https://medium.com/@stallonejacob/time-series-forecast-a-basic-introduction-using-python-414fcb963000"
   ]
  },
  {
   "cell_type": "markdown",
   "metadata": {
    "deletable": false,
    "editable": false,
    "id": "mBdXO_vVKv7E"
   },
   "source": [
    "**&copy; 2020: Corelation, Inc.**"
   ]
  }
 ],
 "metadata": {
  "colab": {
   "collapsed_sections": [],
   "name": "COVID-19_Analysis.ipynb",
   "provenance": [],
   "toc_visible": true
  },
  "kernelspec": {
   "display_name": "Python 3",
   "language": "python",
   "name": "python3"
  },
  "language_info": {
   "codemirror_mode": {
    "name": "ipython",
    "version": 3
   },
   "file_extension": ".py",
   "mimetype": "text/x-python",
   "name": "python",
   "nbconvert_exporter": "python",
   "pygments_lexer": "ipython3",
   "version": "3.7.3"
  },
  "toc": {
   "base_numbering": 1,
   "nav_menu": {},
   "number_sections": true,
   "sideBar": true,
   "skip_h1_title": false,
   "title_cell": "Table of Contents",
   "title_sidebar": "Contents",
   "toc_cell": false,
   "toc_position": {},
   "toc_section_display": true,
   "toc_window_display": false
  }
 },
 "nbformat": 4,
 "nbformat_minor": 1
}
